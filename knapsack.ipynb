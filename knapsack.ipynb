{
 "cells": [
  {
   "cell_type": "code",
   "execution_count": 15,
   "metadata": {},
   "outputs": [
    {
     "name": "stdout",
     "output_type": "stream",
     "text": [
      "16\n",
      "[]\n"
     ]
    }
   ],
   "source": [
    "capacity = 11\n",
    "weight = [4,5,8,3]\n",
    "value = [8,10,15,4]\n",
    "\n",
    "\n",
    "item_count = len(weight)\n",
    "best_value = -float('inf')\n",
    "best_taken = []\n",
    "\n",
    "#### finding the best ratio of value/weight\n",
    "key = 0\n",
    "best_ratio = -float('inf')\n",
    "for i in range(item_count):\n",
    "    current_ratio = value[i]/weight[i]\n",
    "    if current_ratio > best_ratio:\n",
    "        best_ratio = current_ratio\n",
    "        key = i\n",
    "####\n",
    "\n",
    "\n",
    "current_taken = []\n",
    "current_weight = 0\n",
    "current_value = 0\n",
    "current_bound = best_ratio * capacity\n",
    "mark = [False for i in range(item_count)]\n",
    "\n",
    "\n",
    "#Assuming that the items are already sorted in the right order\n",
    "\n",
    "def Try(k):\n",
    "    global best_ratio\n",
    "    global weight\n",
    "    global value\n",
    "    global capacity\n",
    "    global item_count\n",
    "\n",
    "    global best_taken\n",
    "    global best_value\n",
    "    \n",
    "    global mark\n",
    "    global current_value\n",
    "    global current_weight\n",
    "    global current_bound\n",
    "    global current_taken\n",
    "\n",
    "\n",
    "    for item in range(item_count):\n",
    "        if mark[item] == False:\n",
    "            current_taken.append(item)\n",
    "            current_value += value[item]\n",
    "            current_weight += weight[item]\n",
    "            if current_weight <= capacity:\n",
    "                current_bound = current_weight + best_ratio*(capacity-current_weight)\n",
    "                if current_bound > best_value:\n",
    "                    Try(k+1)\n",
    "                mark[item] = False\n",
    "                current_taken.pop()\n",
    "                current_value -= value[item]\n",
    "                current_weight -= weight[item]\n",
    "            else:\n",
    "                mark[item] = False\n",
    "                current_taken.pop()\n",
    "                current_value -= value[item]\n",
    "                current_weight -= weight[item]\n",
    "                if current_value > best_value:\n",
    "                    best_value = current_value\n",
    "                    best_taken = current_taken\n",
    "        \n",
    "            \n",
    "            \n",
    "\n",
    "Try(0)\n",
    "print(best_value)\n",
    "print(best_taken)\n",
    "\n"
   ]
  }
 ],
 "metadata": {
  "kernelspec": {
   "display_name": "Python 3.9.13 ('base')",
   "language": "python",
   "name": "python3"
  },
  "language_info": {
   "codemirror_mode": {
    "name": "ipython",
    "version": 3
   },
   "file_extension": ".py",
   "mimetype": "text/x-python",
   "name": "python",
   "nbconvert_exporter": "python",
   "pygments_lexer": "ipython3",
   "version": "3.9.13 (main, Aug 25 2022, 18:29:29) \n[Clang 12.0.0 ]"
  },
  "orig_nbformat": 4,
  "vscode": {
   "interpreter": {
    "hash": "40d3a090f54c6569ab1632332b64b2c03c39dcf918b08424e98f38b5ae0af88f"
   }
  }
 },
 "nbformat": 4,
 "nbformat_minor": 2
}
