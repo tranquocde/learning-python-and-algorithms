{
  "cells": [
    {
      "cell_type": "code",
      "execution_count": 1,
      "id": "available-garlic",
      "metadata": {
        "id": "available-garlic",
        "outputId": "96b6321a-7fdc-4952-df11-3b0d15d96e16"
      },
      "outputs": [
        {
          "name": "stdout",
          "output_type": "stream",
          "text": [
            "time: 153 µs (started: 2022-11-26 10:48:21 +07:00)\n"
          ]
        }
      ],
      "source": [
        "try:\n",
        "    %load_ext autotime\n",
        "except:\n",
        "    !pip install ipython-autotime\n",
        "    %load_ext autotime"
      ]
    },
    {
      "cell_type": "markdown",
      "id": "narrative-picking",
      "metadata": {
        "id": "narrative-picking"
      },
      "source": [
        "## Dynamic Programming Algorithm for Longest Common Subsequence\n",
        "\n",
        "$$\\newcommand\\lcss{\\textsf{lcss}}$$\n",
        "$$\\newcommand\\len{\\textsf{len}}$$\n",
        "\n",
        "Recall the recurrence that we implement to be `Python` friendly assuming that the arguments $i,j$ satisfy\n",
        "$0 \\leq i \\leq \\len(s_1)$ and $0 \\leq j \\leq \\len(s_2)$.\n",
        "\n",
        "\n",
        "$$\\lcss(i, j) = \\begin{cases}\n",
        "0 & i \\geq \\len(s_1) \\\\\n",
        "0 & j \\geq \\len(s_2) \\\\\n",
        "1 + \\lcss(i+1, j+1 ) &  s_1[i] = s_2[j] \\\\ \n",
        "\\max( \\lcss(i+1, j), \\lcss(i, j+1) ) & \\text{otherwise} \\\\ \n",
        "\\end{cases} $$"
      ]
    },
    {
      "cell_type": "code",
      "execution_count": 6,
      "id": "exceptional-detective",
      "metadata": {
        "id": "exceptional-detective"
      },
      "outputs": [
        {
          "name": "stdout",
          "output_type": "stream",
          "text": [
            "time: 553 µs (started: 2022-11-26 10:48:54 +07:00)\n"
          ]
        }
      ],
      "source": [
        "def lcs(s1, s2, i, j):\n",
        "    assert 0 <= i and i <= len(s1)\n",
        "    assert 0 <= j and j <= len(s2)\n",
        "    if i == len(s1):\n",
        "        return 0\n",
        "    if j == len(s2):\n",
        "        return 0\n",
        "    if s1[i] == s2[j]:\n",
        "        return 1 + lcs(s1, s2, i+1, j+1)\n",
        "    else:\n",
        "        return max(lcs(s1, s2, i+1, j), lcs(s1, s2, i, j+1))"
      ]
    },
    {
      "cell_type": "markdown",
      "id": "controlled-senate",
      "metadata": {
        "id": "controlled-senate"
      },
      "source": [
        "Warning: the recurrence above is quite inefficient. See for yourself."
      ]
    },
    {
      "cell_type": "code",
      "execution_count": 7,
      "id": "multiple-weekly",
      "metadata": {
        "id": "multiple-weekly",
        "outputId": "b4387908-66f5-45de-c98d-57df46a19ae4"
      },
      "outputs": [
        {
          "name": "stdout",
          "output_type": "stream",
          "text": [
            "6\n",
            "time: 785 µs (started: 2022-11-26 10:48:57 +07:00)\n"
          ]
        }
      ],
      "source": [
        "s1 = \"GATTACA\"\n",
        "s2 = \"ACTGATAACAA\"\n",
        "print(lcs(s1, s2, 0, 0))"
      ]
    },
    {
      "cell_type": "code",
      "execution_count": 8,
      "id": "limited-former",
      "metadata": {
        "id": "limited-former",
        "outputId": "c8658d8d-9418-4165-8939-a0ebdd29d00d"
      },
      "outputs": [
        {
          "name": "stdout",
          "output_type": "stream",
          "text": [
            "10\n",
            "time: 117 ms (started: 2022-11-26 10:49:00 +07:00)\n"
          ]
        }
      ],
      "source": [
        "s1 = \"GGATTACCATTATGGAGGCGGA\"\n",
        "s2 = \"ACTTAGGTAGG\"\n",
        "print(lcs(s1, s2, 0, 0))"
      ]
    },
    {
      "cell_type": "code",
      "execution_count": null,
      "id": "exotic-thing",
      "metadata": {
        "id": "exotic-thing",
        "outputId": "c88989c0-8207-4130-be38-4bbc7754043b"
      },
      "outputs": [],
      "source": [
        "# This is just slightly longer and will take more than a minute and a half to run\n",
        "s1 = \"GGATTACCATTATGGAGGCGGA\"\n",
        "s2 = \"ACTTAGGTAGATTATCCG\"\n",
        "print(lcs(s1, s2, 0, 0))"
      ]
    },
    {
      "cell_type": "code",
      "execution_count": null,
      "id": "narrative-vienna",
      "metadata": {
        "id": "narrative-vienna",
        "outputId": "27985bf3-9c0e-4bbc-ae1c-07143e1e7dec"
      },
      "outputs": [],
      "source": [
        "#slightly longer strings will take \"forever\" to run\n",
        "s1 = \"GGATTACACATTACCTATAGGTATAAT\"\n",
        "s2 = \"GGATTTATCTATAAATTACCTATTTATTATATTACCGTATGGTATGC\"\n",
        "print(lcs(s1, s2, 0, 0))"
      ]
    },
    {
      "cell_type": "code",
      "execution_count": 9,
      "id": "sticky-stream",
      "metadata": {
        "id": "sticky-stream",
        "outputId": "8172bb16-cc71-4cb5-e7f2-508d9cb47534"
      },
      "outputs": [
        {
          "name": "stdout",
          "output_type": "stream",
          "text": [
            "time: 1.4 ms (started: 2022-11-26 10:49:08 +07:00)\n"
          ]
        }
      ],
      "source": [
        "#Let's memoize\n",
        "\n",
        "def memoize_lcs(s1, s2):\n",
        "    m = len(s1)\n",
        "    n = len(s2)\n",
        "    # let's create a memo table and fill it with zeros. This will nicely take care of the base cases.\n",
        "    memo_tbl = [ [0 for j in range(n+1)] for i in range(m+1)]\n",
        "    sol_info = [ ['' for j in range(n+1)] for i in range(m+1)] # This will help us recover solutions\n",
        "    for i in range(m-1, -1, -1): # iterate from m-1 to 0 with a step of -1\n",
        "        for j in range(n-1, -1, -1):\n",
        "            if s1[i] == s2[j]:\n",
        "                memo_tbl[i][j] = memo_tbl[i+1][j+1] + 1\n",
        "                sol_info[i][j] = 'match'\n",
        "            else: \n",
        "                # Python allows us to compare and assign tuples\n",
        "                # This nifty bit of code saves us an if then else condition and assignments\n",
        "                # if you are new to python feel free to write out the logic carefully\n",
        "                memo_tbl[i][j], sol_info[i][j] = max((memo_tbl[i+1][j],'right'), (memo_tbl[i][j+1], 'down'))\n",
        "    # Now let us recover the longest common sub sequence\n",
        "    lcs = '' # initialize it to empty string\n",
        "    match_locations = [] # matches of (i,j)\n",
        "    i = 0\n",
        "    j = 0 # start at top left corner\n",
        "    while (i < m and j < n):\n",
        "        if sol_info[i][j] == 'match':\n",
        "            assert s1[i] == s2[j]\n",
        "            lcs = lcs + s1[i]\n",
        "            match_locations.append((i,j))\n",
        "            i,j = i + 1, j + 1\n",
        "        elif sol_info[i][j] == 'right':\n",
        "            i, j = i+1, j\n",
        "        else: \n",
        "            assert sol_info[i][j] == 'down'\n",
        "            i, j = i, j+1\n",
        "    return lcs, match_locations"
      ]
    },
    {
      "cell_type": "code",
      "execution_count": 10,
      "id": "challenging-bosnia",
      "metadata": {
        "id": "challenging-bosnia",
        "outputId": "654cdf22-efa4-4466-86e0-10ab9b806c80"
      },
      "outputs": [
        {
          "name": "stdout",
          "output_type": "stream",
          "text": [
            "Longest common subsequence: ATTACA length= 6\n",
            "Matches:\n",
            "\t Char:\t i, j\n",
            "\t A:\t 1, 0\n",
            "\t T:\t 2, 2\n",
            "\t T:\t 3, 5\n",
            "\t A:\t 4, 6\n",
            "\t C:\t 5, 8\n",
            "\t A:\t 6, 9\n",
            "time: 718 µs (started: 2022-11-26 10:49:11 +07:00)\n"
          ]
        }
      ],
      "source": [
        "s1 = \"GATTACA\"\n",
        "s2 = \"ACTGATAACAA\"\n",
        "(lcs, match_locations) = memoize_lcs(s1, s2)\n",
        "print(f'Longest common subsequence: {lcs} length= {len(lcs)}')\n",
        "print('Matches:')\n",
        "print('\\t Char:\\t i, j')\n",
        "for (i, j) in match_locations:\n",
        "    print(f'\\t {s1[i]}:\\t {i}, {j}')\n"
      ]
    },
    {
      "cell_type": "code",
      "execution_count": 11,
      "id": "collaborative-chrome",
      "metadata": {
        "id": "collaborative-chrome",
        "outputId": "a33fc11f-0f45-498f-e351-0ef1fd78f7b5"
      },
      "outputs": [
        {
          "name": "stdout",
          "output_type": "stream",
          "text": [
            "Longest common subsequence: ACTTAGGAGG length= 10\n",
            "Matches:\n",
            "\t Char:\t i, j\n",
            "\t A:\t 2, 0\n",
            "\t C:\t 6, 1\n",
            "\t T:\t 9, 2\n",
            "\t T:\t 10, 3\n",
            "\t A:\t 11, 4\n",
            "\t G:\t 13, 5\n",
            "\t G:\t 14, 6\n",
            "\t A:\t 15, 8\n",
            "\t G:\t 16, 9\n",
            "\t G:\t 17, 10\n",
            "time: 829 µs (started: 2022-11-26 10:49:14 +07:00)\n"
          ]
        }
      ],
      "source": [
        "s1 = \"GGATTACCATTATGGAGGCGGA\"\n",
        "s2 = \"ACTTAGGTAGG\"\n",
        "(lcs, match_locations) = memoize_lcs(s1, s2)\n",
        "print(f'Longest common subsequence: {lcs} length= {len(lcs)}')\n",
        "print('Matches:')\n",
        "print('\\t Char:\\t i, j')\n",
        "for (i, j) in match_locations:\n",
        "    print(f'\\t {s1[i]}:\\t {i}, {j}')"
      ]
    },
    {
      "cell_type": "code",
      "execution_count": 12,
      "id": "reserved-blogger",
      "metadata": {
        "id": "reserved-blogger",
        "outputId": "3b3c44e1-a68d-4481-e885-1213adbbaa80"
      },
      "outputs": [
        {
          "name": "stdout",
          "output_type": "stream",
          "text": [
            "Longest common subsequence: ACTTAGGAGCG length= 11\n",
            "Matches:\n",
            "\t Char:\t i, j\n",
            "\t A:\t 2, 0\n",
            "\t C:\t 6, 1\n",
            "\t T:\t 9, 2\n",
            "\t T:\t 10, 3\n",
            "\t A:\t 11, 4\n",
            "\t G:\t 13, 5\n",
            "\t G:\t 14, 6\n",
            "\t A:\t 15, 8\n",
            "\t G:\t 16, 9\n",
            "\t C:\t 18, 15\n",
            "\t G:\t 20, 17\n",
            "time: 798 µs (started: 2022-11-26 10:49:16 +07:00)\n"
          ]
        }
      ],
      "source": [
        "s1 = \"GGATTACCATTATGGAGGCGGA\"\n",
        "s2 = \"ACTTAGGTAGATTATCCG\"\n",
        "(lcs, match_locations) = memoize_lcs(s1, s2)\n",
        "print(f'Longest common subsequence: {lcs} length= {len(lcs)}')\n",
        "print('Matches:')\n",
        "print('\\t Char:\\t i, j')\n",
        "for (i, j) in match_locations:\n",
        "    print(f'\\t {s1[i]}:\\t {i}, {j}')"
      ]
    },
    {
      "cell_type": "code",
      "execution_count": 13,
      "id": "numeric-market",
      "metadata": {
        "id": "numeric-market",
        "outputId": "1da16006-2d22-4907-9373-d95eebd79166"
      },
      "outputs": [
        {
          "name": "stdout",
          "output_type": "stream",
          "text": [
            "Longest common subsequence: GGATTACAATTACCTATATATAAT length= 24\n",
            "Matches:\n",
            "\t Char:\t i, j\n",
            "\t G:\t 0, 0\n",
            "\t G:\t 1, 1\n",
            "\t A:\t 2, 2\n",
            "\t T:\t 3, 3\n",
            "\t T:\t 4, 4\n",
            "\t A:\t 5, 6\n",
            "\t C:\t 6, 8\n",
            "\t A:\t 7, 10\n",
            "\t A:\t 9, 12\n",
            "\t T:\t 10, 15\n",
            "\t T:\t 11, 16\n",
            "\t A:\t 12, 17\n",
            "\t C:\t 13, 18\n",
            "\t C:\t 14, 19\n",
            "\t T:\t 15, 20\n",
            "\t A:\t 16, 21\n",
            "\t T:\t 17, 22\n",
            "\t A:\t 18, 25\n",
            "\t T:\t 21, 26\n",
            "\t A:\t 22, 28\n",
            "\t T:\t 23, 29\n",
            "\t A:\t 24, 30\n",
            "\t A:\t 25, 33\n",
            "\t T:\t 26, 37\n",
            "time: 1.57 ms (started: 2022-11-26 10:49:20 +07:00)\n"
          ]
        }
      ],
      "source": [
        "#slightly longer strings will run instantaneously given that we are memoizing\n",
        "s1 = \"GGATTACACATTACCTATAGGTATAAT\"\n",
        "s2 = \"GGATTTATCTATAAATTACCTATTTATTATATTACCGTATGGTATGC\"\n",
        "(lcs, match_locations) = memoize_lcs(s1, s2)\n",
        "print(f'Longest common subsequence: {lcs} length= {len(lcs)}')\n",
        "print('Matches:')\n",
        "print('\\t Char:\\t i, j')\n",
        "for (i, j) in match_locations:\n",
        "    print(f'\\t {s1[i]}:\\t {i}, {j}')"
      ]
    },
    {
      "cell_type": "code",
      "execution_count": null,
      "id": "printable-proof",
      "metadata": {
        "id": "printable-proof"
      },
      "outputs": [],
      "source": []
    }
  ],
  "metadata": {
    "colab": {
      "provenance": []
    },
    "kernelspec": {
      "display_name": "Python 3.9.13 ('base')",
      "language": "python",
      "name": "python3"
    },
    "language_info": {
      "codemirror_mode": {
        "name": "ipython",
        "version": 3
      },
      "file_extension": ".py",
      "mimetype": "text/x-python",
      "name": "python",
      "nbconvert_exporter": "python",
      "pygments_lexer": "ipython3",
      "version": "3.9.13"
    },
    "vscode": {
      "interpreter": {
        "hash": "40d3a090f54c6569ab1632332b64b2c03c39dcf918b08424e98f38b5ae0af88f"
      }
    }
  },
  "nbformat": 4,
  "nbformat_minor": 5
}
