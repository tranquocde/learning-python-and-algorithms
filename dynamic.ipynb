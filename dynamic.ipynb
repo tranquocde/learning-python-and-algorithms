{
 "cells": [
  {
   "cell_type": "code",
   "execution_count": null,
   "metadata": {},
   "outputs": [],
   "source": [
    "'''find all the tuple (x1,...,xn) satisfies:\n",
    "x1 + ... + xn = M'''\n",
    "def solver(M,n):\n",
    "    table = [[None for col in range(n+1)] for row in range(M+1)]\n",
    "    ### base cases\n",
    "    for i in range(1,n+1):\n",
    "        table[0][i] = [[0 for j in range(i)]]\n",
    "    for j in range(1,M+1):\n",
    "        table[j][1] = [[j]]\n",
    "    ###\n",
    "\n",
    "    for row in range(1,M+1):\n",
    "        for col in range(2,n+1):\n",
    "            table[row][col] = []\n",
    "            for x in range(row+1):\n",
    "\n",
    "                # temp = [list(item.append(x) for item in table[row - x][col - 1]]\n",
    "                temp = []\n",
    "                for item in table[row - x][col - 1]:\n",
    "                    fake_item = item + [x]\n",
    "                    temp.append(fake_item)\n",
    "                table[row][col] += temp\n",
    "\n",
    "    return table[M][n]\n",
    "print(solver(10,7))"
   ]
  },
  {
   "cell_type": "code",
   "execution_count": null,
   "metadata": {},
   "outputs": [],
   "source": [
    "def solve(N,k):\n",
    "    '''print all the solution of equation x0+...+x(k-1) = N'''\n",
    "\n",
    "    queue = []\n",
    "\n",
    "    root = []\n",
    "    queue.append(root)\n",
    "    #####  list of answers of the problem.\n",
    "    ans = []\n",
    "    #####\n",
    "    while queue :\n",
    "        temp = queue.pop()\n",
    "        if len(temp) < k:\n",
    "            for num in range(N+1):\n",
    "                sub = temp + [num]\n",
    "                assert isinstance(sub,list)\n",
    "                \n",
    "                if sum(i for i in sub) < N and len(sub) <= k:\n",
    "                    queue.append(sub)\n",
    "                elif sum(i for i in sub) == N:\n",
    "                    while len(sub) < k:\n",
    "                        sub.append(0)\n",
    "                    ans.append(sub)\n",
    "    return ans\n",
    "print(solve(20,7))\n"
   ]
  },
  {
   "cell_type": "code",
   "execution_count": null,
   "metadata": {},
   "outputs": [],
   "source": []
  },
  {
   "cell_type": "code",
   "execution_count": null,
   "metadata": {},
   "outputs": [],
   "source": []
  },
  {
   "cell_type": "code",
   "execution_count": null,
   "metadata": {},
   "outputs": [],
   "source": []
  }
 ],
 "metadata": {
  "kernelspec": {
   "display_name": "Python 3.9.13 ('base')",
   "language": "python",
   "name": "python3"
  },
  "language_info": {
   "codemirror_mode": {
    "name": "ipython",
    "version": 3
   },
   "file_extension": ".py",
   "mimetype": "text/x-python",
   "name": "python",
   "nbconvert_exporter": "python",
   "pygments_lexer": "ipython3",
   "version": "3.9.13"
  },
  "orig_nbformat": 4,
  "vscode": {
   "interpreter": {
    "hash": "40d3a090f54c6569ab1632332b64b2c03c39dcf918b08424e98f38b5ae0af88f"
   }
  }
 },
 "nbformat": 4,
 "nbformat_minor": 2
}
