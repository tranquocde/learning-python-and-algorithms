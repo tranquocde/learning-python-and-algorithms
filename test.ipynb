{
 "cells": [
  {
   "cell_type": "code",
   "execution_count": 22,
   "metadata": {},
   "outputs": [
    {
     "name": "stdout",
     "output_type": "stream",
     "text": [
      "1\n"
     ]
    }
   ],
   "source": [
    "def integerCubeRootHelper(n, left, right):\n",
    "    cube = lambda x: x * x * x # anonymous function to cube a number\n",
    "    assert(n >= 1)\n",
    "    assert(left < right)\n",
    "    assert(left >= 0)\n",
    "    assert(right < n)\n",
    "    assert(cube(left) < n), f'{left}, {right}'\n",
    "    assert(cube(right) > n), f'{left}, {right}'\n",
    "    # your code here\n",
    "    mid = (left + right) // 2\n",
    "    if cube(mid) <= n and cube(mid + 1) > n:\n",
    "        return mid\n",
    "    elif cube(mid) < n :\n",
    "        return integerCubeRootHelper(n,mid,right)\n",
    "    else: \n",
    "        return integerCubeRootHelper(n,left,mid)\n",
    "# Write down the main function\n",
    "def integerCubeRoot(n):\n",
    "    assert( n > 0)\n",
    "    if (n == 1): \n",
    "        return 1\n",
    "    if (n == 2):\n",
    "        return 1\n",
    "    return integerCubeRootHelper(n, 0, n-1)\n",
    "print(integerCubeRoot(4))"
   ]
  },
  {
   "cell_type": "code",
   "execution_count": 2,
   "metadata": {},
   "outputs": [
    {
     "name": "stdout",
     "output_type": "stream",
     "text": [
      "[1, 2, 3, 4]\n",
      "5\n"
     ]
    }
   ],
   "source": [
    "list = [1,2,3,4,5]\n",
    "key = list.pop()\n",
    "print(list)\n",
    "print(key)"
   ]
  },
  {
   "cell_type": "code",
   "execution_count": 4,
   "metadata": {},
   "outputs": [
    {
     "name": "stdout",
     "output_type": "stream",
     "text": [
      "False\n"
     ]
    }
   ],
   "source": [
    "x = - float('inf')\n",
    "print(x>5)"
   ]
  },
  {
   "cell_type": "code",
   "execution_count": 6,
   "metadata": {},
   "outputs": [
    {
     "name": "stdout",
     "output_type": "stream",
     "text": [
      "(3, 4)\n"
     ]
    }
   ],
   "source": [
    "x1 = 2\n",
    "y1 =3\n",
    "x2 = 4\n",
    "y2 = 4\n",
    "print(max((x1,x2),(y1,y2)))"
   ]
  },
  {
   "cell_type": "code",
   "execution_count": 8,
   "metadata": {},
   "outputs": [
    {
     "name": "stdout",
     "output_type": "stream",
     "text": [
      "12586269025\n"
     ]
    }
   ],
   "source": [
    "def fib(n): #recursive function using dynamic programming\n",
    "    array = [0 for i in range (n)]\n",
    "    array[0] = 1\n",
    "    array[1] = 1\n",
    "    for index in range(2,n):\n",
    "        array[index] = array[index - 1]+ array[index -2]\n",
    "    return array[n-1]\n",
    "print(fib(50))"
   ]
  },
  {
   "cell_type": "code",
   "execution_count": null,
   "metadata": {},
   "outputs": [],
   "source": [
    "def fib(n): #naive recurivse function\n",
    "    if n==1 or n ==2: return 1\n",
    "    return fib(n-1)+fib(n-2)\n",
    "print(fib(50))"
   ]
  },
  {
   "cell_type": "code",
   "execution_count": 51,
   "metadata": {},
   "outputs": [
    {
     "name": "stdout",
     "output_type": "stream",
     "text": [
      "[0, 1, 7, 8, 11, 13, 19, 22, 26, 28]\n",
      "False\n"
     ]
    }
   ],
   "source": [
    "import random\n",
    "def binary_search(array,key,left,right):\n",
    "    '''return the index if key is in array[left...right], otherwise false. Given that \\\n",
    "        the array is sorted in ascending order '''\n",
    "    while left < right:\n",
    "        mid = (left + right)//2\n",
    "        if key == array[mid]:\n",
    "            return mid\n",
    "        if key > array[mid]: # the case that key is greater than the middle element\n",
    "            return binary_search(array,key,mid + 1,right)\n",
    "        else: # the case that key is less than the middle\n",
    "            return binary_search(array,key,left,mid)\n",
    "    return False\n",
    "\n",
    "array = [random.randint(0,30) for i in range(10)]\n",
    "array.sort()\n",
    "print(array)\n",
    "print(binary_search(array,key= 10,left=0,right= len(array)-1))"
   ]
  },
  {
   "cell_type": "code",
   "execution_count": 6,
   "metadata": {},
   "outputs": [
    {
     "name": "stdout",
     "output_type": "stream",
     "text": [
      "[2, 3, 4, 1]\n"
     ]
    }
   ],
   "source": [
    "import random\n",
    "array = [1,2,3,4]\n",
    "random.shuffle(array)\n",
    "\n",
    "print(array)"
   ]
  },
  {
   "cell_type": "code",
   "execution_count": null,
   "metadata": {},
   "outputs": [],
   "source": [
    "random.shuffle"
   ]
  },
  {
   "cell_type": "code",
   "execution_count": 1,
   "metadata": {},
   "outputs": [
    {
     "name": "stdout",
     "output_type": "stream",
     "text": [
      "[1, 2]\n"
     ]
    }
   ],
   "source": [
    "list = [1,2,3,4]\n",
    "print(list[:2])"
   ]
  },
  {
   "cell_type": "code",
   "execution_count": 10,
   "metadata": {},
   "outputs": [
    {
     "name": "stdout",
     "output_type": "stream",
     "text": [
      "[34, 3, 36, 45, 49, 9, 30, 13, 21, 35, 2, 13, 39, 28, 36, 31, 2, 39, 18, 24]\n",
      "[3, 9, 13, 21, 28, 31, 39]\n"
     ]
    }
   ],
   "source": [
    "def longest_subsq(array):\n",
    "    n = len(array)\n",
    "    memoization = [[1,None] for i in range(n)]\n",
    "    #value,index\n",
    "    max = [1,None]\n",
    "    best_index = 0\n",
    "    for i in range(1,n):# fill up memoization[i]\n",
    "        key = array[i]\n",
    "        best = [1,None]\n",
    "        # assert(best,int)\n",
    "        for j in range(i):\n",
    "            if key > array[j]:\n",
    "                temp = [memoization[j][0] + 1,j]\n",
    "                if temp > best :\n",
    "                    best = temp  \n",
    "        memoization[i] = best\n",
    "        if memoization[i] > max:\n",
    "            max = memoization[i]\n",
    "            best_index = i\n",
    "    \n",
    "    value,index = max\n",
    "    # assert(index,int)\n",
    "    ans = [array[best_index]]\n",
    "    while value > 0 and index != None:\n",
    "        ans.append(array[index])\n",
    "        value,index = memoization[index]\n",
    "    ans.reverse()\n",
    "    return ans\n",
    "\n",
    "    \n",
    "import random\n",
    "array = [random.randint(0,49) for i in range(20)]\n",
    "print(array)\n",
    "print(longest_subsq(array))\n"
   ]
  },
  {
   "cell_type": "code",
   "execution_count": 26,
   "metadata": {},
   "outputs": [
    {
     "name": "stdout",
     "output_type": "stream",
     "text": [
      "1 3\n"
     ]
    }
   ],
   "source": []
  },
  {
   "cell_type": "code",
   "execution_count": 11,
   "metadata": {},
   "outputs": [
    {
     "name": "stdout",
     "output_type": "stream",
     "text": [
      "[34, 3, 36, 45, 49, 9, 30, 13, 21, 35, 2, 13, 39, 28, 36, 31, 2, 39, 18, 24]\n",
      "7\n"
     ]
    }
   ],
   "source": [
    "def longest_subsq(array):\n",
    "    n = len(array)\n",
    "    memoization = [1 for i in range(n)]\n",
    "    #value,index\n",
    "    \n",
    "    for i in range(1,n):# fill up memoization[i]\n",
    "        key = array[i]\n",
    "        best = 1\n",
    "        for j in range(i):\n",
    "            if key > array[j]:\n",
    "                temp = memoization[j] + 1\n",
    "                if temp > best:\n",
    "                    best = temp\n",
    "        memoization[i] = best\n",
    "        \n",
    "\n",
    "    return max(memoization)\n",
    "import random\n",
    "array = [34, 3, 36, 45, 49, 9, 30, 13, 21, 35, 2, 13, 39, 28, 36, 31, 2, 39, 18, 24]\n",
    "print(array)\n",
    "print(longest_subsq(array))\n",
    "\n",
    "\n",
    "\n"
   ]
  },
  {
   "cell_type": "code",
   "execution_count": null,
   "metadata": {},
   "outputs": [],
   "source": [
    "'''Halving game'''\n",
    "\n",
    "class Game():\n",
    "\n",
    "    "
   ]
  }
 ],
 "metadata": {
  "kernelspec": {
   "display_name": "Python 3.9.13 ('base')",
   "language": "python",
   "name": "python3"
  },
  "language_info": {
   "codemirror_mode": {
    "name": "ipython",
    "version": 3
   },
   "file_extension": ".py",
   "mimetype": "text/x-python",
   "name": "python",
   "nbconvert_exporter": "python",
   "pygments_lexer": "ipython3",
   "version": "3.9.13 (main, Aug 25 2022, 18:29:29) \n[Clang 12.0.0 ]"
  },
  "orig_nbformat": 4,
  "vscode": {
   "interpreter": {
    "hash": "40d3a090f54c6569ab1632332b64b2c03c39dcf918b08424e98f38b5ae0af88f"
   }
  }
 },
 "nbformat": 4,
 "nbformat_minor": 2
}
