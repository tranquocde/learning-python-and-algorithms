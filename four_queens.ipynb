{
 "cells": [
  {
   "cell_type": "code",
   "execution_count": 13,
   "metadata": {},
   "outputs": [],
   "source": []
  },
  {
   "cell_type": "code",
   "execution_count": 43,
   "metadata": {},
   "outputs": [
    {
     "name": "stdout",
     "output_type": "stream",
     "text": [
      "14200\n"
     ]
    }
   ],
   "source": []
  },
  {
   "cell_type": "code",
   "execution_count": 51,
   "metadata": {},
   "outputs": [
    {
     "name": "stdout",
     "output_type": "stream",
     "text": [
      "[1, 3, 5, 2, 4]\n",
      "[1, 4, 2, 5, 3]\n",
      "[2, 4, 1, 3, 5]\n",
      "[2, 5, 3, 1, 4]\n",
      "[3, 1, 4, 2, 5]\n",
      "[3, 5, 2, 4, 1]\n",
      "[4, 1, 3, 5, 2]\n",
      "[4, 2, 5, 3, 1]\n",
      "[5, 2, 4, 1, 3]\n",
      "[5, 3, 1, 4, 2]\n",
      "10\n"
     ]
    }
   ],
   "source": [
    "# Arrange n queen in n*n table in which there are no two queens beat each other.\n",
    "\n",
    "\n",
    "n = 5\n",
    "# y = [i for i in range(n+1)] # Because y coodinates of n queens are distinct.\n",
    "\n",
    "x = [0 for i in range(n+1)] # Initial value, now we use backtracking to find x[i] coordinate with respect to\n",
    "                            # y[i] coordinate of i-th queens\n",
    "\n",
    "count = 0\n",
    "mark = [False] * (n+1)\n",
    "sum_mark = [False] * (2*n+1)\n",
    "difference_mark = [False] * (2*n+1)\n",
    "def check(v, k) :\n",
    "    res = mark[v] == False and sum_mark[v+k] == False and difference_mark[v-k] == False \n",
    "    return res\n",
    "def Try(k) :\n",
    "    \n",
    "    for v in range(1, n+1) :\n",
    "        if check(v, k) :\n",
    "            mark[v] = True\n",
    "            sum_mark[v+k] = True\n",
    "            difference_mark[v-k] = True\n",
    "            x[k] = v\n",
    "            if k == n :\n",
    "                global count\n",
    "                count += 1\n",
    "                print(x[1:])\n",
    "                \n",
    "            else :\n",
    "                Try(k+1)\n",
    "            \n",
    "            # backtrack to the parent node.\n",
    "            mark[v] = False \n",
    "            sum_mark[v+k] = False\n",
    "            difference_mark[v-k] = False\n",
    "\n",
    "\n",
    "Try(1)\n",
    "print(count)\n"
   ]
  },
  {
   "cell_type": "code",
   "execution_count": null,
   "metadata": {},
   "outputs": [],
   "source": []
  }
 ],
 "metadata": {
  "kernelspec": {
   "display_name": "Python 3.9.13 ('base')",
   "language": "python",
   "name": "python3"
  },
  "language_info": {
   "codemirror_mode": {
    "name": "ipython",
    "version": 3
   },
   "file_extension": ".py",
   "mimetype": "text/x-python",
   "name": "python",
   "nbconvert_exporter": "python",
   "pygments_lexer": "ipython3",
   "version": "3.9.13"
  },
  "orig_nbformat": 4,
  "vscode": {
   "interpreter": {
    "hash": "40d3a090f54c6569ab1632332b64b2c03c39dcf918b08424e98f38b5ae0af88f"
   }
  }
 },
 "nbformat": 4,
 "nbformat_minor": 2
}
