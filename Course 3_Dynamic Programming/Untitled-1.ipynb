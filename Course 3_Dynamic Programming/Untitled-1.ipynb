{
 "cells": [
  {
   "cell_type": "code",
   "execution_count": null,
   "metadata": {},
   "outputs": [],
   "source": [
    "N = 4\n",
    "# TODO: first fill in the frequencies call this list \n",
    "# fft_frequencies -- it must have length N\n",
    "# it must store the frequencies of each element in the fft_data\n",
    "# ensure that the frequencies of the second half are negative.\n",
    "# your code here\n",
    "fft_frequencies = [0 for i in range(N)]\n",
    "fft_frequencies[N//2] = 0.5\n",
    "for i in range(1,N//2):\n",
    "    fft_frequencies[i] = i/N\n",
    "    fft_frequencies[N-i] = -i/N\n",
    "print(fft_freq)\n"
   ]
  }
 ],
 "metadata": {
  "language_info": {
   "name": "python"
  },
  "orig_nbformat": 4
 },
 "nbformat": 4,
 "nbformat_minor": 2
}
