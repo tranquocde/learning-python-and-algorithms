{
 "cells": [
  {
   "cell_type": "code",
   "execution_count": 5,
   "metadata": {},
   "outputs": [
    {
     "name": "stdout",
     "output_type": "stream",
     "text": [
      "[2, 4, 6]\n",
      "[2, 4, 7]\n",
      "[2, 4, 8]\n",
      "[2, 4, 9]\n",
      "[2, 5, 7]\n",
      "[2, 5, 8]\n",
      "[2, 5, 9]\n",
      "[2, 6, 8]\n",
      "[2, 6, 9]\n",
      "[2, 7, 9]\n",
      "[3, 5, 7]\n",
      "[3, 5, 8]\n",
      "[3, 5, 9]\n",
      "[3, 6, 8]\n",
      "[3, 6, 9]\n",
      "[3, 7, 9]\n",
      "[4, 6, 8]\n",
      "[4, 6, 9]\n",
      "[4, 7, 9]\n",
      "[5, 7, 9]\n"
     ]
    }
   ],
   "source": [
    "n = 10\n",
    "k = 3\n",
    "ans = [0 for i in range(k)]\n",
    "\n",
    "def Try(i):\n",
    "    for x_i in range(ans[i-1]+2,n-i+2):\n",
    "        ans[i] = x_i\n",
    "        if i == k-1:\n",
    "            print(ans)\n",
    "        else: Try(i+1)\n",
    "Try(0)\n",
    "\n",
    "    \n",
    "    "
   ]
  },
  {
   "cell_type": "code",
   "execution_count": null,
   "metadata": {},
   "outputs": [],
   "source": []
  }
 ],
 "metadata": {
  "kernelspec": {
   "display_name": "Python 3.9.13 ('base')",
   "language": "python",
   "name": "python3"
  },
  "language_info": {
   "codemirror_mode": {
    "name": "ipython",
    "version": 3
   },
   "file_extension": ".py",
   "mimetype": "text/x-python",
   "name": "python",
   "nbconvert_exporter": "python",
   "pygments_lexer": "ipython3",
   "version": "3.9.13"
  },
  "orig_nbformat": 4,
  "vscode": {
   "interpreter": {
    "hash": "40d3a090f54c6569ab1632332b64b2c03c39dcf918b08424e98f38b5ae0af88f"
   }
  }
 },
 "nbformat": 4,
 "nbformat_minor": 2
}
